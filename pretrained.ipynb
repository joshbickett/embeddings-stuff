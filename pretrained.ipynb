{
 "cells": [
  {
   "cell_type": "code",
   "execution_count": 45,
   "metadata": {},
   "outputs": [],
   "source": [
    "import os\n",
    "from gensim.models import Word2Vec\n",
    "from gensim.models.word2vec import LineSentence\n"
   ]
  },
  {
   "cell_type": "code",
   "execution_count": 48,
   "metadata": {},
   "outputs": [
    {
     "name": "stdout",
     "output_type": "stream",
     "text": [
      "[('towers,', 0.8151745200157166), ('aa185', 0.7777850031852722), ('462-0666', 0.7718185782432556), ('|morgan', 0.7702239751815796), ('dwarf', 0.7652097344398499), ('604-0883', 0.7651423215866089), ('sepa', 0.7636379599571228), ('banks', 0.7629901170730591), ('3133', 0.7620834708213806), ('usmail:', 0.7591169476509094)]\n"
     ]
    }
   ],
   "source": [
    "import os\n",
    "from gensim.models import Word2Vec\n",
    "\n",
    "dataset_path = '20_newsgroups/'\n",
    "\n",
    "sentences = []\n",
    "\n",
    "for category in os.listdir(dataset_path):\n",
    "    category_path = os.path.join(dataset_path, category)\n",
    "    for filename in os.listdir(category_path):\n",
    "        file_path = os.path.join(category_path, filename)\n",
    "        with open(file_path, 'r', encoding='latin-1') as file:\n",
    "            text = file.read()\n",
    "            sentences.append(text.lower().split())  # You can preprocess further here\n",
    "\n",
    "# Train the Word2Vec model directly using sentences\n",
    "model = Word2Vec(sentences, vector_size=100, window=5, min_count=1, workers=4)\n",
    "\n",
    "# Save the trained model\n",
    "model.save(\"word2vec.model\")\n",
    "\n",
    "# Now you can use the model for various word similarity tasks\n",
    "similar_words = model.wv.most_similar(\"cat\")\n",
    "print(similar_words)\n"
   ]
  },
  {
   "cell_type": "code",
   "execution_count": 50,
   "metadata": {},
   "outputs": [
    {
     "name": "stdout",
     "output_type": "stream",
     "text": [
      "[('lilly', 0.8270894289016724), ('rev.', 0.8217896819114685), ('dabro', 0.821731686592102), ('hunter', 0.8193551301956177), ('alexander', 0.8187937140464783), ('$999', 0.8152379393577576), ('1988.', 0.8146359324455261), ('author:', 0.8142721652984619), ('distributor:', 0.8121143579483032), ('arnold', 0.8119171857833862)]\n"
     ]
    }
   ],
   "source": [
    "result = model.wv.most_similar(positive=[\"king\", \"queen\"], negative=[\"man\"])\n",
    "print(result)\n"
   ]
  },
  {
   "cell_type": "code",
   "execution_count": null,
   "metadata": {},
   "outputs": [],
   "source": []
  }
 ],
 "metadata": {
  "kernelspec": {
   "display_name": "venv",
   "language": "python",
   "name": "python3"
  },
  "language_info": {
   "codemirror_mode": {
    "name": "ipython",
    "version": 3
   },
   "file_extension": ".py",
   "mimetype": "text/x-python",
   "name": "python",
   "nbconvert_exporter": "python",
   "pygments_lexer": "ipython3",
   "version": "3.9.6"
  },
  "orig_nbformat": 4
 },
 "nbformat": 4,
 "nbformat_minor": 2
}
