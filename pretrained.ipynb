{
 "cells": [
  {
   "cell_type": "code",
   "execution_count": 1,
   "metadata": {},
   "outputs": [],
   "source": [
    "import os\n",
    "from gensim.models import Word2Vec\n",
    "from gensim.models.word2vec import LineSentence\n"
   ]
  },
  {
   "cell_type": "code",
   "execution_count": 4,
   "metadata": {},
   "outputs": [
    {
     "name": "stdout",
     "output_type": "stream",
     "text": [
      "[('nazarene', 0.8204924464225769), ('towers,', 0.7995359897613525), ('19713', 0.7757228016853333), ('462-0666', 0.7695050239562988), ('|morgan', 0.7626444697380066), ('high-end', 0.7591221332550049), ('h-', 0.7574406266212463), ('tsakc=', 0.7549729943275452), ('448-1589', 0.7540906071662903), ('freenet:', 0.7534372806549072)]\n"
     ]
    }
   ],
   "source": [
    "import os\n",
    "from gensim.models import Word2Vec\n",
    "\n",
    "dataset_path = '20_newsgroups/'\n",
    "\n",
    "sentences = []\n",
    "\n",
    "for category in os.listdir(dataset_path):\n",
    "    category_path = os.path.join(dataset_path, category)\n",
    "    if os.path.isdir(category_path):  # Check if the path is indeed a directory\n",
    "        for filename in os.listdir(category_path):\n",
    "            file_path = os.path.join(category_path, filename)\n",
    "            with open(file_path, 'r', encoding='latin-1') as file:\n",
    "                text = file.read()\n",
    "                sentences.append(text.lower().split())  # You can preprocess further here\n",
    "\n",
    "\n",
    "# Train the Word2Vec model directly using sentences\n",
    "model = Word2Vec(sentences, vector_size=100, window=5, min_count=1, workers=4)\n",
    "\n",
    "# Save the trained model\n",
    "model.save(\"word2vec.model\")\n",
    "\n",
    "# Now you can use the model for various word similarity tasks\n",
    "similar_words = model.wv.most_similar(\"cat\")\n",
    "print(similar_words)\n"
   ]
  },
  {
   "cell_type": "code",
   "execution_count": 5,
   "metadata": {},
   "outputs": [
    {
     "name": "stdout",
     "output_type": "stream",
     "text": [
      "[('kiner', 0.8178808689117432), ('carroll', 0.812455952167511), ('siegel', 0.8120136260986328), ('glenn', 0.8117343187332153), ('dickey', 0.8097286224365234), ('madison,', 0.8075236678123474), ('\"alf\"', 0.8019773960113525), ('alexander', 0.8015725612640381), ('15.', 0.8013426661491394), ('___|_', 0.8012585043907166)]\n"
     ]
    }
   ],
   "source": [
    "result = model.wv.most_similar(positive=[\"king\", \"queen\"], negative=[\"man\"])\n",
    "print(result)\n"
   ]
  },
  {
   "cell_type": "code",
   "execution_count": 7,
   "metadata": {},
   "outputs": [
    {
     "name": "stderr",
     "output_type": "stream",
     "text": [
      "/Users/josh/Documents/temp/embeddings-stuff/venv/lib/python3.9/site-packages/threadpoolctl.py:1019: RuntimeWarning: libc not found. The ctypes module in Python 3.9 is maybe too old for this OS.\n",
      "  warnings.warn(\n"
     ]
    }
   ],
   "source": [
    "import numpy as np\n",
    "from sklearn.manifold import TSNE\n",
    "import matplotlib.pyplot as plt\n",
    "\n",
    "# Extract the word vectors from the model\n",
    "word_vectors = model.wv.vectors\n",
    "\n",
    "# Create a t-SNE model and fit it to the word vectors\n",
    "tsne_model = TSNE(n_components=2, random_state=42)\n",
    "tsne_vectors = tsne_model.fit_transform(word_vectors)\n",
    "\n",
    "# Visualize the t-SNE vectors\n",
    "plt.figure(figsize=(10, 6))\n",
    "plt.scatter(tsne_vectors[:, 0], tsne_vectors[:, 1], marker='.')\n",
    "plt.title(\"t-SNE Visualization of Word Embeddings\")\n",
    "plt.xlabel(\"Dimension 1\")\n",
    "plt.ylabel(\"Dimension 2\")\n",
    "\n",
    "# Annotate some words for better context\n",
    "words_to_annotate = [\"cat\", \"dog\", \"king\", \"queen\", \"computer\", \"science\"]\n",
    "for word in words_to_annotate:\n",
    "    idx = model.wv.vocab[word].index\n",
    "    plt.annotate(word, (tsne_vectors[idx, 0], tsne_vectors[idx, 1]))\n",
    "\n",
    "plt.show()\n"
   ]
  },
  {
   "cell_type": "code",
   "execution_count": null,
   "metadata": {},
   "outputs": [],
   "source": []
  }
 ],
 "metadata": {
  "kernelspec": {
   "display_name": "venv",
   "language": "python",
   "name": "python3"
  },
  "language_info": {
   "codemirror_mode": {
    "name": "ipython",
    "version": 3
   },
   "file_extension": ".py",
   "mimetype": "text/x-python",
   "name": "python",
   "nbconvert_exporter": "python",
   "pygments_lexer": "ipython3",
   "version": "3.9.6"
  },
  "orig_nbformat": 4
 },
 "nbformat": 4,
 "nbformat_minor": 2
}
