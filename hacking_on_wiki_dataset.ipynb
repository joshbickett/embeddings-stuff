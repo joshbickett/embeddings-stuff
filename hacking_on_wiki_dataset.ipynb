{
 "cells": [
  {
   "cell_type": "code",
   "execution_count": 7,
   "metadata": {},
   "outputs": [],
   "source": [
    "import zipfile\n",
    "\n",
    "# Specify the name of the zip file\n",
    "zip_file_name = \"enwik8.zip\"  # Use the correct filename if it's different\n",
    "\n",
    "# Specify the name of the file within the zip archive to extract\n",
    "file_name_inside_zip = \"enwik8\"  # Use the correct filename if it's different\n",
    "\n",
    "# Extract the file from the zip archive\n",
    "with zipfile.ZipFile(zip_file_name, 'r') as zip_file:\n",
    "    with zip_file.open(file_name_inside_zip) as xml_file:\n",
    "        # Read the XML data from the extracted file\n",
    "        xml_data = xml_file.read()\n",
    "\n",
    "# Convert the bytes to a string\n",
    "xml_text = xml_data.decode('utf-8')\n",
    "\n",
    "# Process the XML text as needed\n",
    "# For example, you can parse it with lxml or extract plain text\n"
   ]
  },
  {
   "cell_type": "code",
   "execution_count": 10,
   "metadata": {},
   "outputs": [],
   "source": [
    "from gensim.models.word2vec import LineSentence\n",
    "\n",
    "# Tokenize the text into sentences\n",
    "sentences = [sentence.split() for sentence in xml_text.splitlines()]\n",
    "\n",
    "# Alternatively, you can use LineSentence to tokenize it more efficiently\n",
    "# sentences = LineSentence(xml_text, max_sentence_length=1000000)  # Adjust max_sentence_length as needed\n"
   ]
  },
  {
   "cell_type": "code",
   "execution_count": 11,
   "metadata": {},
   "outputs": [],
   "source": [
    "from gensim.models import Word2Vec\n",
    "\n",
    "# Train the Word2Vec model\n",
    "model = Word2Vec(sentences, vector_size=100, window=5, min_count=5, workers=4)\n",
    "\n",
    "# Save the trained model for future use\n",
    "model.save(\"word2vec_enwik8.model\")\n"
   ]
  },
  {
   "cell_type": "code",
   "execution_count": 16,
   "metadata": {},
   "outputs": [
    {
     "name": "stdout",
     "output_type": "stream",
     "text": [
      "[('pleased', 0.7390716075897217), ('wise', 0.7182496190071106), ('her,', 0.6945162415504456), ('good,', 0.6941806674003601), ('sure', 0.6914108395576477), ('really', 0.6841797828674316), ('me', 0.6832596659660339), ('tired', 0.6736952066421509), ('sick', 0.6718294620513916), ('worthy', 0.6679267287254333)]\n"
     ]
    }
   ],
   "source": [
    "similar_words = model.wv.most_similar(\"happy\")\n",
    "print(similar_words)\n"
   ]
  },
  {
   "cell_type": "code",
   "execution_count": 14,
   "metadata": {},
   "outputs": [
    {
     "name": "stdout",
     "output_type": "stream",
     "text": [
      "[('emperor', 0.8574608564376831), ('son', 0.8252022862434387), ('prince', 0.8200932741165161), ('bishop', 0.8150376677513123), ('Emperor', 0.8038278818130493), ('ruler', 0.8011179566383362), ('throne', 0.7930620312690735), ('crown', 0.7878412008285522), ('king,', 0.7858870625495911), ('King', 0.7827796936035156)]\n"
     ]
    }
   ],
   "source": [
    "analogy_words = model.wv.most_similar(positive=[\"king\", \"woman\"], negative=[\"man\"])\n",
    "print(analogy_words)"
   ]
  },
  {
   "cell_type": "code",
   "execution_count": 24,
   "metadata": {},
   "outputs": [
    {
     "name": "stdout",
     "output_type": "stream",
     "text": [
      "0.3121753\n"
     ]
    }
   ],
   "source": [
    "similarity_score = model.wv.similarity(\"apple\", \"guitar\")\n",
    "print(similarity_score)"
   ]
  },
  {
   "cell_type": "code",
   "execution_count": 25,
   "metadata": {},
   "outputs": [],
   "source": [
    "word_vectors = model.wv\n"
   ]
  },
  {
   "cell_type": "code",
   "execution_count": 30,
   "metadata": {},
   "outputs": [
    {
     "name": "stdout",
     "output_type": "stream",
     "text": [
      "100\n"
     ]
    }
   ],
   "source": [
    "vector_for_word = word_vectors[\"word\"]\n",
    "\n",
    "print(len(vector_for_word))"
   ]
  },
  {
   "cell_type": "code",
   "execution_count": 32,
   "metadata": {},
   "outputs": [
    {
     "name": "stdout",
     "output_type": "stream",
     "text": [
      "100 5 5\n"
     ]
    }
   ],
   "source": [
    "vector_size = model.vector_size\n",
    "window_size = model.window\n",
    "min_count = model.min_count\n",
    "print(vector_size, window_size, min_count)"
   ]
  },
  {
   "cell_type": "code",
   "execution_count": 33,
   "metadata": {},
   "outputs": [
    {
     "name": "stdout",
     "output_type": "stream",
     "text": [
      "0.0\n"
     ]
    }
   ],
   "source": [
    "training_loss = model.get_latest_training_loss()\n",
    "print(training_loss)"
   ]
  },
  {
   "cell_type": "code",
   "execution_count": null,
   "metadata": {},
   "outputs": [],
   "source": []
  }
 ],
 "metadata": {
  "kernelspec": {
   "display_name": "venv",
   "language": "python",
   "name": "python3"
  },
  "language_info": {
   "codemirror_mode": {
    "name": "ipython",
    "version": 3
   },
   "file_extension": ".py",
   "mimetype": "text/x-python",
   "name": "python",
   "nbconvert_exporter": "python",
   "pygments_lexer": "ipython3",
   "version": "3.9.6"
  },
  "orig_nbformat": 4
 },
 "nbformat": 4,
 "nbformat_minor": 2
}
